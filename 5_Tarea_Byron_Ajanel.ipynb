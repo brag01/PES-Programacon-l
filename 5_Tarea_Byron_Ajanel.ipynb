{
 "cells": [
  {
   "cell_type": "markdown",
   "metadata": {},
   "source": [
    "# Tarea #6"
   ]
  },
  {
   "cell_type": "markdown",
   "metadata": {},
   "source": [
    "## Ejercicio 1  \n",
    "Ejecute el siguiente programa y explique su procedimiento y el porqué del resultado."
   ]
  },
  {
   "cell_type": "code",
   "execution_count": 1,
   "metadata": {},
   "outputs": [
    {
     "ename": "RecursionError",
     "evalue": "maximum recursion depth exceeded",
     "output_type": "error",
     "traceback": [
      "\u001b[1;31m---------------------------------------------------------------------------\u001b[0m",
      "\u001b[1;31mRecursionError\u001b[0m                            Traceback (most recent call last)",
      "\u001b[1;32m<ipython-input-1-00d266b39dc6>\u001b[0m in \u001b[0;36m<module>\u001b[1;34m\u001b[0m\n\u001b[0;32m      2\u001b[0m     \u001b[0mf\u001b[0m\u001b[1;33m(\u001b[0m\u001b[0mf\u001b[0m\u001b[1;33m)\u001b[0m\u001b[1;33m\u001b[0m\u001b[1;33m\u001b[0m\u001b[0m\n\u001b[0;32m      3\u001b[0m \u001b[1;33m\u001b[0m\u001b[0m\n\u001b[1;32m----> 4\u001b[1;33m \u001b[0mRecusion\u001b[0m\u001b[1;33m(\u001b[0m\u001b[0mRecusion\u001b[0m\u001b[1;33m)\u001b[0m\u001b[1;33m\u001b[0m\u001b[1;33m\u001b[0m\u001b[0m\n\u001b[0m",
      "\u001b[1;32m<ipython-input-1-00d266b39dc6>\u001b[0m in \u001b[0;36mRecusion\u001b[1;34m(f)\u001b[0m\n\u001b[0;32m      1\u001b[0m \u001b[1;32mdef\u001b[0m \u001b[0mRecusion\u001b[0m\u001b[1;33m(\u001b[0m\u001b[0mf\u001b[0m\u001b[1;33m)\u001b[0m\u001b[1;33m:\u001b[0m\u001b[1;33m\u001b[0m\u001b[1;33m\u001b[0m\u001b[0m\n\u001b[1;32m----> 2\u001b[1;33m     \u001b[0mf\u001b[0m\u001b[1;33m(\u001b[0m\u001b[0mf\u001b[0m\u001b[1;33m)\u001b[0m\u001b[1;33m\u001b[0m\u001b[1;33m\u001b[0m\u001b[0m\n\u001b[0m\u001b[0;32m      3\u001b[0m \u001b[1;33m\u001b[0m\u001b[0m\n\u001b[0;32m      4\u001b[0m \u001b[0mRecusion\u001b[0m\u001b[1;33m(\u001b[0m\u001b[0mRecusion\u001b[0m\u001b[1;33m)\u001b[0m\u001b[1;33m\u001b[0m\u001b[1;33m\u001b[0m\u001b[0m\n",
      "... last 1 frames repeated, from the frame below ...\n",
      "\u001b[1;32m<ipython-input-1-00d266b39dc6>\u001b[0m in \u001b[0;36mRecusion\u001b[1;34m(f)\u001b[0m\n\u001b[0;32m      1\u001b[0m \u001b[1;32mdef\u001b[0m \u001b[0mRecusion\u001b[0m\u001b[1;33m(\u001b[0m\u001b[0mf\u001b[0m\u001b[1;33m)\u001b[0m\u001b[1;33m:\u001b[0m\u001b[1;33m\u001b[0m\u001b[1;33m\u001b[0m\u001b[0m\n\u001b[1;32m----> 2\u001b[1;33m     \u001b[0mf\u001b[0m\u001b[1;33m(\u001b[0m\u001b[0mf\u001b[0m\u001b[1;33m)\u001b[0m\u001b[1;33m\u001b[0m\u001b[1;33m\u001b[0m\u001b[0m\n\u001b[0m\u001b[0;32m      3\u001b[0m \u001b[1;33m\u001b[0m\u001b[0m\n\u001b[0;32m      4\u001b[0m \u001b[0mRecusion\u001b[0m\u001b[1;33m(\u001b[0m\u001b[0mRecusion\u001b[0m\u001b[1;33m)\u001b[0m\u001b[1;33m\u001b[0m\u001b[1;33m\u001b[0m\u001b[0m\n",
      "\u001b[1;31mRecursionError\u001b[0m: maximum recursion depth exceeded"
     ]
    }
   ],
   "source": [
    "def Recusion(f):\n",
    "    f(f)\n",
    "    \n",
    "Recusion(Recusion)"
   ]
  },
  {
   "cell_type": "code",
   "execution_count": null,
   "metadata": {},
   "outputs": [],
   "source": [
    "La recursión se encicla debido a que se genera continuamente, "
   ]
  },
  {
   "cell_type": "markdown",
   "metadata": {},
   "source": [
    "**Respuesta:** \n",
    "    \n",
    "    \n",
    "    "
   ]
  },
  {
   "cell_type": "markdown",
   "metadata": {},
   "source": [
    "## Ejercicio 2"
   ]
  },
  {
   "cell_type": "code",
   "execution_count": 2,
   "metadata": {},
   "outputs": [],
   "source": [
    "def mcd(a,b):\n",
    "    '''Donde a >= b'''\n",
    "    if a % b == 0:  \n",
    "        return b\n",
    "    elif a % b > 0: \n",
    "        return mcd(b,a%b)\n",
    "    else:\n",
    "        return mcd(b,a%b)"
   ]
  },
  {
   "cell_type": "code",
   "execution_count": 3,
   "metadata": {},
   "outputs": [
    {
     "data": {
      "text/plain": [
       "4"
      ]
     },
     "execution_count": 3,
     "metadata": {},
     "output_type": "execute_result"
    }
   ],
   "source": [
    "(a,b)=(20,12)\n",
    "mcd(a,b)"
   ]
  },
  {
   "cell_type": "markdown",
   "metadata": {},
   "source": [
    "## Ejercicio 3"
   ]
  },
  {
   "cell_type": "code",
   "execution_count": 4,
   "metadata": {},
   "outputs": [],
   "source": [
    "def Entero(a,b):\n",
    "    if a<b:\n",
    "        return 0\n",
    "    elif (a - b) == 0:        \n",
    "        return 1\n",
    "    else:\n",
    "        return 1 + Entero(a-b,b)\n",
    "   \n",
    "        \n",
    "        "
   ]
  },
  {
   "cell_type": "code",
   "execution_count": 5,
   "metadata": {},
   "outputs": [
    {
     "name": "stdout",
     "output_type": "stream",
     "text": [
      "5\n"
     ]
    }
   ],
   "source": [
    "print(Entero(15,3))"
   ]
  },
  {
   "cell_type": "markdown",
   "metadata": {},
   "source": [
    "## Ejercicio 4\n",
    "\n",
    "En el ejemplo de clase (Coordinate), modifique el método constructor para que verifique que los argumentos $x$ y $y$ sean flotantes.  "
   ]
  },
  {
   "cell_type": "code",
   "execution_count": 6,
   "metadata": {},
   "outputs": [],
   "source": [
    "class Coordinate(object):\n",
    "    def __init__(self, num, denom):\n",
    "        \"\"\"\"\n",
    "        Metódo Constructor de Coordinate\n",
    "        \"\"\"\n",
    "        assert type(num) == float and type(denom) == float, \"Modifique el valor a flotante\"\n",
    "        self.num = num\n",
    "        self.denom = denom"
   ]
  },
  {
   "cell_type": "code",
   "execution_count": 7,
   "metadata": {},
   "outputs": [
    {
     "ename": "AssertionError",
     "evalue": "Modifique el valor a flotante",
     "output_type": "error",
     "traceback": [
      "\u001b[1;31m---------------------------------------------------------------------------\u001b[0m",
      "\u001b[1;31mAssertionError\u001b[0m                            Traceback (most recent call last)",
      "\u001b[1;32m<ipython-input-7-91c59ebebb2b>\u001b[0m in \u001b[0;36m<module>\u001b[1;34m\u001b[0m\n\u001b[1;32m----> 1\u001b[1;33m \u001b[0mCoordenada\u001b[0m \u001b[1;33m=\u001b[0m \u001b[0mCoordinate\u001b[0m\u001b[1;33m(\u001b[0m\u001b[1;36m3\u001b[0m\u001b[1;33m,\u001b[0m\u001b[1;36m5\u001b[0m\u001b[1;33m)\u001b[0m\u001b[1;33m\u001b[0m\u001b[1;33m\u001b[0m\u001b[0m\n\u001b[0m\u001b[0;32m      2\u001b[0m \u001b[0mCoordenada\u001b[0m\u001b[1;33m\u001b[0m\u001b[1;33m\u001b[0m\u001b[0m\n",
      "\u001b[1;32m<ipython-input-6-015b2346288e>\u001b[0m in \u001b[0;36m__init__\u001b[1;34m(self, num, denom)\u001b[0m\n\u001b[0;32m      4\u001b[0m         \u001b[0mMetódo\u001b[0m \u001b[0mConstructor\u001b[0m \u001b[0mde\u001b[0m \u001b[0mCoordinate\u001b[0m\u001b[1;33m\u001b[0m\u001b[1;33m\u001b[0m\u001b[0m\n\u001b[0;32m      5\u001b[0m         \"\"\"\n\u001b[1;32m----> 6\u001b[1;33m         \u001b[1;32massert\u001b[0m \u001b[0mtype\u001b[0m\u001b[1;33m(\u001b[0m\u001b[0mnum\u001b[0m\u001b[1;33m)\u001b[0m \u001b[1;33m==\u001b[0m \u001b[0mfloat\u001b[0m \u001b[1;32mand\u001b[0m \u001b[0mtype\u001b[0m\u001b[1;33m(\u001b[0m\u001b[0mdenom\u001b[0m\u001b[1;33m)\u001b[0m \u001b[1;33m==\u001b[0m \u001b[0mfloat\u001b[0m\u001b[1;33m,\u001b[0m \u001b[1;34m\"Modifique el valor a flotante\"\u001b[0m\u001b[1;33m\u001b[0m\u001b[1;33m\u001b[0m\u001b[0m\n\u001b[0m\u001b[0;32m      7\u001b[0m         \u001b[0mself\u001b[0m\u001b[1;33m.\u001b[0m\u001b[0mnum\u001b[0m \u001b[1;33m=\u001b[0m \u001b[0mnum\u001b[0m\u001b[1;33m\u001b[0m\u001b[1;33m\u001b[0m\u001b[0m\n\u001b[0;32m      8\u001b[0m         \u001b[0mself\u001b[0m\u001b[1;33m.\u001b[0m\u001b[0mdenom\u001b[0m \u001b[1;33m=\u001b[0m \u001b[0mdenom\u001b[0m\u001b[1;33m\u001b[0m\u001b[1;33m\u001b[0m\u001b[0m\n",
      "\u001b[1;31mAssertionError\u001b[0m: Modifique el valor a flotante"
     ]
    }
   ],
   "source": [
    "Coordenada = Coordinate(3,5)\n",
    "Coordenada "
   ]
  },
  {
   "cell_type": "markdown",
   "metadata": {},
   "source": [
    "## Ejercicio 5\n"
   ]
  },
  {
   "cell_type": "markdown",
   "metadata": {},
   "source": [
    "### 5.1"
   ]
  },
  {
   "cell_type": "code",
   "execution_count": 8,
   "metadata": {},
   "outputs": [],
   "source": [
    "class Persona1(object):\n",
    "    \n",
    "    def __init__(self, nombre, edad):   # Se crea la clase \"Persona\" con los objetos asignado\n",
    "        self.nombre = nombre\n",
    "        self.edad = edad\n",
    "                \n",
    "    def __str__(self):                       # Se define el tipo de texto para su impresión\n",
    "        \n",
    "        return str(self.nombre) + \",\" + str(self.edad) \n",
    "    \n",
    "    def __add__(self,other):      # Se defina la suma de estos elementos para la clase\n",
    "        res_nombre = self.nombre + \"+\" + other.nombre\n",
    "        res_edad= self.edad + other.edad\n",
    "        \n",
    "        return Persona1(res_nombre,res_edad)"
   ]
  },
  {
   "cell_type": "code",
   "execution_count": 9,
   "metadata": {},
   "outputs": [
    {
     "name": "stdout",
     "output_type": "stream",
     "text": [
      "ajanel,29\n",
      "jose,27\n"
     ]
    }
   ],
   "source": [
    "dato1= Persona1 (\"ajanel\", 29)\n",
    "dato2= Persona1 (\"jose\",27)\n",
    "\n",
    "print(dato1)\n",
    "print(dato2)"
   ]
  },
  {
   "cell_type": "markdown",
   "metadata": {},
   "source": [
    "###  5.2"
   ]
  },
  {
   "cell_type": "code",
   "execution_count": 10,
   "metadata": {},
   "outputs": [
    {
     "name": "stdout",
     "output_type": "stream",
     "text": [
      "ajanel+jose,56\n"
     ]
    }
   ],
   "source": [
    "dato1= Persona1 (\"ajanel\", 29)\n",
    "dato2= Persona1 (\"jose\",27)\n",
    "suma= (dato1 + dato2)\n",
    "print(suma)\n"
   ]
  },
  {
   "cell_type": "markdown",
   "metadata": {},
   "source": [
    "### 5.3"
   ]
  },
  {
   "cell_type": "code",
   "execution_count": 11,
   "metadata": {},
   "outputs": [],
   "source": [
    "class Persona(object):\n",
    "    \n",
    "    \n",
    "    def __init__(self, nombre, edad, altura):   # Se crea la clase \"Persona\" con los objetos asignado\n",
    "        self.nombre = nombre\n",
    "        self.edad = edad\n",
    "        self.altura = altura\n",
    "        \n",
    "    def __str__(self):         # Se define el tipo de texto para su impresión\n",
    "        \n",
    "        return str(self.nombre) + \",\" + str(self.edad) + \",\" + str(self.altura)\n",
    "    \n",
    "    def __add__(self,other):      # Se defina la suma de estos elementos para la clase\n",
    "        res_nombre = self.nombre + \"+\" + other.nombre\n",
    "        res_edad= self.edad + other.edad\n",
    "        res_altura=self.altura + other.altura\n",
    "        return Persona(res_nombre, res_edad, res_altura)"
   ]
  },
  {
   "cell_type": "code",
   "execution_count": 12,
   "metadata": {},
   "outputs": [
    {
     "name": "stdout",
     "output_type": "stream",
     "text": [
      "ajanel,29,1.7\n",
      "jose,27,1.7\n"
     ]
    }
   ],
   "source": [
    "persona1= Persona(\"ajanel\",29,1.70)\n",
    "persona2= Persona(\"jose\", 27,1.70)\n",
    "\n",
    "print(persona1)\n",
    "print(persona2)\n",
    "\n"
   ]
  },
  {
   "cell_type": "markdown",
   "metadata": {},
   "source": [
    "### Ejercicio 6\n",
    "A la clase anterior, añada un método para sumar dos objetos de tipo Persona. El resultado debe ser ambos nombres concatenados y la suma de ambas edades."
   ]
  },
  {
   "cell_type": "code",
   "execution_count": 13,
   "metadata": {},
   "outputs": [
    {
     "name": "stdout",
     "output_type": "stream",
     "text": [
      "ajanel+jose,56,3.4\n"
     ]
    }
   ],
   "source": [
    "persona1= Persona(\"ajanel\",29,1.70)\n",
    "persona2= Persona(\"jose\", 27,1.70)\n",
    "\n",
    "Info= (persona1 + persona2)\n",
    "print(Info)"
   ]
  },
  {
   "cell_type": "markdown",
   "metadata": {},
   "source": [
    "### Ejercicio 7"
   ]
  },
  {
   "cell_type": "code",
   "execution_count": 14,
   "metadata": {},
   "outputs": [],
   "source": [
    "class Canasta(object):\n",
    "    \"\"\"\n",
    "    A continuación definimos una clase de canasta.\n",
    "    \"\"\"\n",
    "    def __init__(self, cerv, ocio, cev):\n",
    "        \n",
    "        assert type(cerv) == int , type(ocio) == int and type(cev) == int \n",
    "        self.cerv = cerv \n",
    "        self.ocio = ocio       \n",
    "        self.cev = cev \n",
    "          \n",
    "    def __lt__(self, other):\n",
    "            \n",
    "        util1=self.cerv**0.3*self.ocio**0.6*self.cev**0.1\n",
    "        util2=other.cerv**0.3*other.ocio**0.6*other.cev**0.1\n",
    "        \n",
    "        if util1>util2:\n",
    "            \n",
    "            return False\n",
    "        else:\n",
    "            return True\n",
    "    \n",
    "    def __str__(self):\n",
    "            return \"(\"+str(self.cerv) + \",\" + str(self.ocio)+ \",\"+ str(self.cev)+\")\"\n",
    "\n",
    "    def __eq__(self, other):\n",
    "      \n",
    "        util1=self.cerv**0.3*self.ocio**0.6*self.cev**0.1\n",
    "        util2=other.cerv**0.3*other.ocio**0.6*other.cev**0.1\n",
    "        \n",
    "        if util1==util2:\n",
    "            return True\n",
    "        else:\n",
    "            return False\n",
    "    "
   ]
  },
  {
   "cell_type": "code",
   "execution_count": 15,
   "metadata": {},
   "outputs": [
    {
     "name": "stdout",
     "output_type": "stream",
     "text": [
      "(2,3,4)\n",
      "(3,5,1)\n"
     ]
    }
   ],
   "source": [
    "A=Canasta(2,3,4)\n",
    "print(A)\n",
    "B=Canasta(3,5,1)\n",
    "print(B)"
   ]
  },
  {
   "cell_type": "code",
   "execution_count": 16,
   "metadata": {},
   "outputs": [],
   "source": [
    "A=B"
   ]
  },
  {
   "cell_type": "markdown",
   "metadata": {},
   "source": [
    "### Ejercicio 8 Encriptado"
   ]
  },
  {
   "cell_type": "code",
   "execution_count": 17,
   "metadata": {},
   "outputs": [],
   "source": [
    "class encriptado(object):\n",
    "    def __init__(self, mensaje, s):\n",
    "    \n",
    "        assert type (mensaje) ==str and type(s) == int\n",
    "        self.mensaje = mensaje\n",
    "        self.s= s\n",
    "    \n",
    "    \"\"\"\"\n",
    "        En esta función regresa la cadena de mensaje\n",
    "    \"\"\"\n",
    "    def __str__(self):\n",
    "        \n",
    "        msjcrip= \"\"\n",
    "        for char in self.mensaje:\n",
    "            l=ord(char)+self.s\n",
    "            msjcrip = msjcrip + chr(l)\n",
    "            \n",
    "        return msjcrip\n",
    "    \n",
    "    \n",
    "    \n",
    "    \n",
    "    "
   ]
  },
  {
   "cell_type": "code",
   "execution_count": 18,
   "metadata": {},
   "outputs": [
    {
     "name": "stdout",
     "output_type": "stream",
     "text": [
      "Vr|#Dmdqho\n"
     ]
    }
   ],
   "source": [
    "msj1=encriptado(\"Soy Ajanel\",3)\n",
    "print(msj1)"
   ]
  }
 ],
 "metadata": {
  "kernelspec": {
   "display_name": "Python 3",
   "language": "python",
   "name": "python3"
  },
  "language_info": {
   "codemirror_mode": {
    "name": "ipython",
    "version": 3
   },
   "file_extension": ".py",
   "mimetype": "text/x-python",
   "name": "python",
   "nbconvert_exporter": "python",
   "pygments_lexer": "ipython3",
   "version": "3.7.4"
  }
 },
 "nbformat": 4,
 "nbformat_minor": 2
}
