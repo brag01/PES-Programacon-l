{
 "cells": [
  {
   "cell_type": "markdown",
   "metadata": {},
   "source": [
    "# Tarea día 8\n",
    "**Programación I**   \n",
    "\n",
    "## ***Byron Ajanel***"
   ]
  },
  {
   "cell_type": "code",
   "execution_count": 1,
   "metadata": {},
   "outputs": [],
   "source": [
    "import numpy as np"
   ]
  },
  {
   "cell_type": "markdown",
   "metadata": {},
   "source": [
    "## Ejercicio 1\n",
    "\n",
    "Cree una matriz que contenga ceros. Rellene la mitad de ellos aleatoriamente con unos."
   ]
  },
  {
   "cell_type": "code",
   "execution_count": 3,
   "metadata": {},
   "outputs": [
    {
     "data": {
      "text/plain": [
       "array([[0., 0., 1., 1., 0.],\n",
       "       [1., 1., 1., 0., 1.],\n",
       "       [0., 1., 0., 1., 0.],\n",
       "       [0., 1., 0., 0., 1.],\n",
       "       [0., 0., 0., 0., 0.]])"
      ]
     },
     "execution_count": 3,
     "metadata": {},
     "output_type": "execute_result"
    }
   ],
   "source": [
    "\"Forma A\"\n",
    "n=4\n",
    "m=4\n",
    "d = np.floor ( 2 * np.random.random ((int(n)  , int(m) )))\n",
    "e= np.floor ( 2 * np.random.random (( int(n) , int(m) )))\n",
    "f=(np.insert(d, d.shape[1], (e), 1))\n",
    "f.resize((5,5))\n",
    "f"
   ]
  },
  {
   "cell_type": "code",
   "execution_count": 4,
   "metadata": {},
   "outputs": [
    {
     "data": {
      "text/plain": [
       "array([[0., 1., 0., 0., 0., 0., 0., 1.],\n",
       "       [0., 1., 1., 0., 1., 0., 0., 0.],\n",
       "       [1., 0., 0., 1., 0., 1., 1., 1.],\n",
       "       [0., 0., 0., 1., 0., 0., 0., 0.],\n",
       "       [1., 1., 1., 1., 1., 0., 1., 1.],\n",
       "       [1., 1., 1., 0., 1., 1., 0., 0.],\n",
       "       [1., 0., 1., 1., 0., 1., 1., 1.],\n",
       "       [0., 0., 1., 1., 0., 0., 0., 1.]])"
      ]
     },
     "execution_count": 4,
     "metadata": {},
     "output_type": "execute_result"
    }
   ],
   "source": [
    "\" Forma B\"\n",
    "\n",
    "fila=8\n",
    "columna=8\n",
    "ceros=np.zeros(fila*columna)\n",
    "m=np.arange(64)\n",
    "\n",
    "matriz=np.random.choice(m, int((8*8)/2), replace=False)\n",
    "ceros[matriz]=1\n",
    "ceros.resize((8,8))\n",
    "ceros"
   ]
  },
  {
   "cell_type": "markdown",
   "metadata": {},
   "source": [
    "## Ejercicio 2\n",
    "Cree dos matrices de dimensiones $(5,2)$. La primera rellena de ceros y la siguiente de unos. \n",
    "1.\tConvierta las matrices en vectores columna. \n",
    "\n"
   ]
  },
  {
   "cell_type": "code",
   "execution_count": 5,
   "metadata": {},
   "outputs": [
    {
     "name": "stdout",
     "output_type": "stream",
     "text": [
      "Matriz de Ceros\n",
      "[[0.]\n",
      " [0.]\n",
      " [0.]\n",
      " [0.]\n",
      " [0.]\n",
      " [0.]\n",
      " [0.]\n",
      " [0.]\n",
      " [0.]\n",
      " [0.]]\n",
      "......................\n",
      "Matriz de unos\n",
      "[[1.]\n",
      " [1.]\n",
      " [1.]\n",
      " [1.]\n",
      " [1.]\n",
      " [1.]\n",
      " [1.]\n",
      " [1.]\n",
      " [1.]\n",
      " [1.]]\n"
     ]
    }
   ],
   "source": [
    "ceros=np.zeros([5,2])\n",
    "ceros.resize((10,1))\n",
    "print(\"Matriz de Ceros\")\n",
    "print(ceros)\n",
    "\n",
    "print(\"......................\")\n",
    "\n",
    "print(\"Matriz de unos\")\n",
    "unos=np.ones([5,2])\n",
    "unos.resize((10,1))\n",
    "print (unos)"
   ]
  },
  {
   "cell_type": "code",
   "execution_count": null,
   "metadata": {},
   "outputs": [],
   "source": []
  },
  {
   "cell_type": "markdown",
   "metadata": {},
   "source": [
    "2.\tApile ambos vectores a lo largo de una tercera dimensión. \n"
   ]
  },
  {
   "cell_type": "code",
   "execution_count": 6,
   "metadata": {},
   "outputs": [
    {
     "name": "stdout",
     "output_type": "stream",
     "text": [
      "[[[0. 1.]]\n",
      "\n",
      " [[0. 1.]]\n",
      "\n",
      " [[0. 1.]]\n",
      "\n",
      " [[0. 1.]]\n",
      "\n",
      " [[0. 1.]]\n",
      "\n",
      " [[0. 1.]]\n",
      "\n",
      " [[0. 1.]]\n",
      "\n",
      " [[0. 1.]]\n",
      "\n",
      " [[0. 1.]]\n",
      "\n",
      " [[0. 1.]]]\n"
     ]
    }
   ],
   "source": [
    "a=np.dstack((ceros,unos))\n",
    "print(a)"
   ]
  },
  {
   "cell_type": "markdown",
   "metadata": {},
   "source": [
    "\n",
    "3.\tCon las matrices originales, conviértalas en vectores fila y concaténelos verticalmente. "
   ]
  },
  {
   "cell_type": "code",
   "execution_count": 256,
   "metadata": {},
   "outputs": [
    {
     "name": "stdout",
     "output_type": "stream",
     "text": [
      "[[0.]\n",
      " [0.]\n",
      " [0.]\n",
      " [0.]\n",
      " [0.]\n",
      " [0.]\n",
      " [0.]\n",
      " [0.]\n",
      " [0.]\n",
      " [0.]\n",
      " [1.]\n",
      " [1.]\n",
      " [1.]\n",
      " [1.]\n",
      " [1.]\n",
      " [1.]\n",
      " [1.]\n",
      " [1.]\n",
      " [1.]\n",
      " [1.]]\n"
     ]
    }
   ],
   "source": [
    "unos.resize((1,10))\n",
    "unos\n",
    "\n",
    "ceros.resize((1,10))\n",
    "ceros\n",
    "\n",
    "a=np.concatenate((ceros,unos))\n",
    "a.resize((20,1))\n",
    "print(a)"
   ]
  },
  {
   "cell_type": "markdown",
   "metadata": {},
   "source": [
    "## Ejercicio 3\n",
    "\n",
    "Dada la función $f(x,y,z) = 2x +3y + z^2$\n",
    "1.\tGenere una matriz con números aleatorios, donde cada columna sea una variable. \n"
   ]
  },
  {
   "cell_type": "code",
   "execution_count": 92,
   "metadata": {},
   "outputs": [
    {
     "data": {
      "text/plain": [
       "array([[4, 1, 1],\n",
       "       [3, 3, 4],\n",
       "       [1, 1, 4],\n",
       "       [4, 0, 4],\n",
       "       [1, 4, 4],\n",
       "       [2, 3, 0]])"
      ]
     },
     "execution_count": 92,
     "metadata": {},
     "output_type": "execute_result"
    }
   ],
   "source": [
    "n=6\n",
    "var = np.random.randint(6, size=(n, 3))\n",
    "var"
   ]
  },
  {
   "cell_type": "markdown",
   "metadata": {},
   "source": [
    "2.\tEvalúe la matriz anterior en la función. El resultado debe ser una vector columna. "
   ]
  },
  {
   "cell_type": "code",
   "execution_count": 263,
   "metadata": {},
   "outputs": [
    {
     "data": {
      "text/plain": [
       "array([70, 16, 79, 61, 86, 47, 80, 50, 45, 55])"
      ]
     },
     "execution_count": 263,
     "metadata": {},
     "output_type": "execute_result"
    }
   ],
   "source": [
    "def f(x):\n",
    "    \n",
    "    return 2*var[0:n,0]+3*var[0:n,1]+var[0:n,2]**2\n",
    "\n",
    "f(var)"
   ]
  },
  {
   "cell_type": "code",
   "execution_count": 262,
   "metadata": {},
   "outputs": [
    {
     "data": {
      "text/plain": [
       "array([[[ 0,  1,  4,  9, 16]],\n",
       "\n",
       "       [[ 2,  3,  6, 11, 18]],\n",
       "\n",
       "       [[ 4,  5,  8, 13, 20]]])"
      ]
     },
     "execution_count": 262,
     "metadata": {},
     "output_type": "execute_result"
    }
   ],
   "source": [
    "def f(x,y,z):\n",
    "    return 2*x+3*y+z**2\n",
    "\n",
    "b = np.fromfunction(f, (3,1,5), dtype=int)\n",
    "b"
   ]
  },
  {
   "cell_type": "markdown",
   "metadata": {},
   "source": [
    "## Ejercicio 4\n",
    "\n",
    "Suponga que dentro de un cuadrado de lado 50 cm, hay un cuadrado de 20cm. Ambos cuadrados comparten centro. Estime el área del cuadrado interno por método Monte Carlo. [Consulte Aquí]( http://mathonweb.com/entrtain/monte/t_monte.htm)"
   ]
  },
  {
   "cell_type": "code",
   "execution_count": 150,
   "metadata": {},
   "outputs": [
    {
     "name": "stdout",
     "output_type": "stream",
     "text": [
      "El resultado estimado del área es  398.69029275808936\n"
     ]
    }
   ],
   "source": [
    "# Metódo Monte Carlo \n",
    "\n",
    "Area_gde = np.random.randint(0,2, size=(50,50)) \n",
    "\n",
    "Area_peq = Area_gde[30: , 0:20]\n",
    "\n",
    "Resultado=(50*50*sum(sum(Area_peq))/sum(sum(Area_gde)))\n",
    "\n",
    "print(\"El resultado estimado del área es \",  + Resultado)\n",
    "\n"
   ]
  },
  {
   "cell_type": "markdown",
   "metadata": {},
   "source": [
    "## Ejercicio 5\n",
    "\n",
    "### *Tarea*\n",
    "\n",
    "## 1. \n",
    "1. De las siguientes secciones, escoger 73 funciones de NumPy y mostrar su utilización en un ejemplo.\n",
    "\n",
    "    - [Array creation routines](https://numpy.org/devdocs/reference/routines.array-creation.html)\n",
    "\n",
    "    - [Array manipulation routines](https://numpy.org/devdocs/reference/routines.array-manipulation.html)\n",
    "\n",
    "    - [Binary operations](https://numpy.org/devdocs/reference/routines.bitwise.html)\n",
    "\n",
    "    - [String operations](https://numpy.org/devdocs/reference/routines.char.html)\n",
    "    \n",
    "\n",
    "# Se encuentra hasta abajo del documento   \n"
   ]
  },
  {
   "cell_type": "markdown",
   "metadata": {},
   "source": [
    "## 2.  \n",
    "2. Crear un ejemplo de cómo guardar y cargar arreglos de un archivo binario `.npy` y `.npz`:\n",
    "\n",
    "    - [NumPy binary files (NPY, NPZ)](https://numpy.org/devdocs/reference/routines.io.html#numpy-binary-files-npy-npz)"
   ]
  },
  {
   "cell_type": "code",
   "execution_count": 109,
   "metadata": {},
   "outputs": [
    {
     "data": {
      "text/plain": [
       "array([[3, 5, 9, 7, 2],\n",
       "       [4, 5, 2, 4, 8],\n",
       "       [7, 3, 9, 1, 6],\n",
       "       [1, 1, 0, 8, 2],\n",
       "       [7, 2, 4, 8, 7]])"
      ]
     },
     "execution_count": 109,
     "metadata": {},
     "output_type": "execute_result"
    }
   ],
   "source": [
    "# Archivo binario .npy\n",
    "\n",
    "Ajanel_Byron = np.random.randint(0,10,[5,5])\n",
    "\n",
    "# Para guardarlo utilizamos la ruta y la extensin .npy\n",
    "\n",
    "np.save('Ajanel_Byron.npy', Ajanel_Byron)\n",
    "\n",
    "# Y lo cargamos de nuevo\n",
    "Ajanel_Byron = np.load('Ajanel_Byron.npy')\n",
    "\n",
    "Ajanel_Byron"
   ]
  },
  {
   "cell_type": "code",
   "execution_count": 120,
   "metadata": {},
   "outputs": [
    {
     "data": {
      "text/plain": [
       "<numpy.lib.npyio.NpzFile at 0x2144e02efc8>"
      ]
     },
     "execution_count": 120,
     "metadata": {},
     "output_type": "execute_result"
    }
   ],
   "source": [
    "# Archivo binario .npz\n",
    "\n",
    "Ajanel_3 = np.random.randint(0,10,[5,5])\n",
    "\n",
    "# Utilizaremos savez para guardar de forma comprimida con la extensión .npz\n",
    "\n",
    "# Especificaremos un nombre para la matriz que queramos guardar (Ajanel_3)\n",
    "\n",
    "np.savez('Ajanel_3.npz', Ajanel_3=Ajanel_3)\n",
    "\n",
    "# Y los cargamos de nuevo\n",
    "\n",
    "Ajanel_3 = np.load('Ajanel_3.npz')\n",
    "Ajanel_3"
   ]
  },
  {
   "cell_type": "markdown",
   "metadata": {},
   "source": [
    "   \n",
    "## 3. \n",
    "3. Crear un ejemplo de cómo guardar y cargar arreglos de un archivo de texto `.txt`:\n",
    "\n",
    "    - [NumPy Text files](https://numpy.org/devdocs/reference/routines.io.html#text-files)"
   ]
  },
  {
   "cell_type": "code",
   "execution_count": 80,
   "metadata": {},
   "outputs": [
    {
     "data": {
      "text/plain": [
       "array([[ 1.,  2.,  3.,  4.,  5.],\n",
       "       [ 6.,  7.,  8.,  9., 10.],\n",
       "       [11., 12., 13., 14., 15.]])"
      ]
     },
     "execution_count": 80,
     "metadata": {},
     "output_type": "execute_result"
    }
   ],
   "source": [
    "\"\"\"\n",
    "Funcion que guarda los arreglos de un archivo de texto:\n",
    "\"\"\"\n",
    "x=np.array([[1,2,3,4,5],[6,7,8,9,10],[11,12,13,14,15]],np.int32)\n",
    "np.savetxt(\"Tarea_8.txt\",x)\n",
    "\n",
    "\"\"\"\n",
    "Funcion que carga los arreglos de un archivo de texto:\n",
    "\"\"\"\n",
    "\n",
    "np.loadtxt(\"Tarea_8.txt\")"
   ]
  },
  {
   "cell_type": "markdown",
   "metadata": {},
   "source": [
    "## 4. \n",
    "Crear una función llamada `estimacionMCO` que lea un archivo CSV con 7 columnas, que corresponden a las variables $(x_{1i}, \\ldots, x_{6i})$ y $y_i$. \n",
    "    - La función debe computar matricialmente los parámetros del modelo de regresión lineal: $y = X\\beta$. \n",
    "    - Estos parámetros deben ser devueltos como un arreglo de NumPy. \n",
    "\n",
    "    - Utilice la función de lectura de archivos de NumPy."
   ]
  },
  {
   "cell_type": "code",
   "execution_count": 81,
   "metadata": {},
   "outputs": [
    {
     "data": {
      "text/plain": [
       "array([[68, 40, 17, 68, 40, 41, 28],\n",
       "       [44, 65,  1, 79, 79, 11, 73],\n",
       "       [24, 37, 16, 57, 13,  2, 69],\n",
       "       [56, 48, 70, 53, 48,  9, 17],\n",
       "       [50, 44,  6, 69,  5, 20, 41],\n",
       "       [27, 33, 12, 33, 58, 28, 14],\n",
       "       [50, 66, 28, 78,  9, 47, 79],\n",
       "       [46, 35, 41, 46, 44, 18,  5],\n",
       "       [68, 25, 59,  2, 59, 55, 54],\n",
       "       [12, 70,  1, 30, 29,  5, 56]])"
      ]
     },
     "execution_count": 81,
     "metadata": {},
     "output_type": "execute_result"
    }
   ],
   "source": [
    "n=10\n",
    "variables = np.random.randint(80, size=(n, 7))\n",
    "variables"
   ]
  },
  {
   "cell_type": "code",
   "execution_count": 281,
   "metadata": {},
   "outputs": [],
   "source": [
    "np.savetxt(\"estimacionMCO.csv\", variables, delimiter=' ', fmt='%d')"
   ]
  },
  {
   "cell_type": "code",
   "execution_count": 284,
   "metadata": {},
   "outputs": [],
   "source": [
    "def estimacionMCO(datos):\n",
    "    return np.loadtxt(\"estimacionMCO.csv\", delimiter=',', skiprows=1)"
   ]
  },
  {
   "cell_type": "code",
   "execution_count": null,
   "metadata": {},
   "outputs": [],
   "source": [
    "datos=1\n",
    "estimacionMCO(datos)"
   ]
  },
  {
   "cell_type": "markdown",
   "metadata": {},
   "source": [
    "# Respuestas de las 73 \"Funciones\""
   ]
  },
  {
   "cell_type": "markdown",
   "metadata": {},
   "source": [
    "## Rutinas de creación de matrices ¶"
   ]
  },
  {
   "cell_type": "code",
   "execution_count": 46,
   "metadata": {},
   "outputs": [
    {
     "name": "stdout",
     "output_type": "stream",
     "text": [
      "[[1.30388024e-076 5.04050503e+223]\n",
      " [1.87725413e-009 5.23394038e+180]]\n"
     ]
    }
   ],
   "source": [
    "\"\"\"\"\n",
    "1 numpy.empty\n",
    "\"\"\"\n",
    "\n",
    "a=np.empty([2, 2])\n",
    "print(a)"
   ]
  },
  {
   "cell_type": "code",
   "execution_count": 45,
   "metadata": {},
   "outputs": [
    {
     "name": "stdout",
     "output_type": "stream",
     "text": [
      "[[3602    0    0]\n",
      " [   0    0    0]]\n"
     ]
    }
   ],
   "source": [
    "\"\"\"\n",
    "2 a is array-like\n",
    "\"\"\"\n",
    "\n",
    "a = ([1,2,3], [4,5,6])                         \n",
    "b= np.empty_like(a)\n",
    "print(b)"
   ]
  },
  {
   "cell_type": "code",
   "execution_count": 39,
   "metadata": {},
   "outputs": [
    {
     "data": {
      "text/plain": [
       "array([[0, 1, 2],\n",
       "       [3, 4, 5]])"
      ]
     },
     "execution_count": 39,
     "metadata": {},
     "output_type": "execute_result"
    }
   ],
   "source": [
    "\"\"\"\"\n",
    "3 Creación de Matrices\"\n",
    "\"\"\"\n",
    "\n",
    "x = np.arange(6)\n",
    "x = x.reshape((2, 3))\n",
    "x"
   ]
  },
  {
   "cell_type": "code",
   "execution_count": 47,
   "metadata": {},
   "outputs": [
    {
     "data": {
      "text/plain": [
       "array([[1., 1., 1.],\n",
       "       [1., 1., 1.],\n",
       "       [1., 1., 1.],\n",
       "       [1., 1., 1.],\n",
       "       [1., 1., 1.]])"
      ]
     },
     "execution_count": 47,
     "metadata": {},
     "output_type": "execute_result"
    }
   ],
   "source": [
    "\"\"\"\"\n",
    "3 Creación de Matrices de unos\"\n",
    "\"\"\"\n",
    "\n",
    "a=np.ones((5,3))\n",
    "a\n"
   ]
  },
  {
   "cell_type": "code",
   "execution_count": 38,
   "metadata": {},
   "outputs": [
    {
     "data": {
      "text/plain": [
       "array([[0., 0., 0., 0.],\n",
       "       [0., 0., 0., 0.],\n",
       "       [0., 0., 0., 0.],\n",
       "       [0., 0., 0., 0.],\n",
       "       [0., 0., 0., 0.]])"
      ]
     },
     "execution_count": 38,
     "metadata": {},
     "output_type": "execute_result"
    }
   ],
   "source": [
    "\"\"\"\"\n",
    "4 numpy.zeros¶\n",
    "\"\"\"\"\n",
    "\n",
    "a=np.zeros((5,4))\n",
    "a"
   ]
  },
  {
   "cell_type": "code",
   "execution_count": 48,
   "metadata": {},
   "outputs": [
    {
     "data": {
      "text/plain": [
       "array([[inf, inf],\n",
       "       [inf, inf]])"
      ]
     },
     "execution_count": 48,
     "metadata": {},
     "output_type": "execute_result"
    }
   ],
   "source": [
    "\"\"\"\"\n",
    "5 numpy.full\n",
    "\"\"\"\n",
    "a= np.full((2, 2), np.inf)\n",
    "a"
   ]
  },
  {
   "cell_type": "code",
   "execution_count": 50,
   "metadata": {},
   "outputs": [
    {
     "data": {
      "text/plain": [
       "array([[1, 0],\n",
       "       [0, 1]])"
      ]
     },
     "execution_count": 50,
     "metadata": {},
     "output_type": "execute_result"
    }
   ],
   "source": [
    "\"\"\"\n",
    "6 numpy.eye\n",
    "\"\"\"\n",
    "\n",
    "a=np.eye(2, dtype=int)\n",
    "a"
   ]
  },
  {
   "cell_type": "code",
   "execution_count": 51,
   "metadata": {},
   "outputs": [
    {
     "data": {
      "text/plain": [
       "array([[1., 0., 0.],\n",
       "       [0., 1., 0.],\n",
       "       [0., 0., 1.]])"
      ]
     },
     "execution_count": 51,
     "metadata": {},
     "output_type": "execute_result"
    }
   ],
   "source": [
    "\"\"\"\n",
    "7 \n",
    "numpy.identity\n",
    "\"\"\"\n",
    "a=np.identity(3)\n",
    "a"
   ]
  },
  {
   "cell_type": "code",
   "execution_count": 64,
   "metadata": {},
   "outputs": [
    {
     "data": {
      "text/plain": [
       "array([1, 1, 1, 1, 1, 1])"
      ]
     },
     "execution_count": 64,
     "metadata": {},
     "output_type": "execute_result"
    }
   ],
   "source": [
    "\"\"\"\n",
    "8 \n",
    "numpy.full_like\n",
    "\"\"\"\n",
    "x = np.arange(6, dtype=int)\n",
    "a=np.full_like(x, 1)\n",
    "a\n"
   ]
  },
  {
   "cell_type": "code",
   "execution_count": 67,
   "metadata": {},
   "outputs": [
    {
     "data": {
      "text/plain": [
       "array([[1, 2],\n",
       "       [3, 4]])"
      ]
     },
     "execution_count": 67,
     "metadata": {},
     "output_type": "execute_result"
    }
   ],
   "source": [
    "\"\"\"\n",
    "9 \n",
    "numpy array Más de una dimensión:\n",
    "\"\"\"\n",
    "a= np.array([[1, 2], [3, 4]])\n",
    "a"
   ]
  },
  {
   "cell_type": "code",
   "execution_count": 72,
   "metadata": {},
   "outputs": [
    {
     "data": {
      "text/plain": [
       "array([[ 1,  8,  7],\n",
       "       [ 3,  9, 10],\n",
       "       [ 2,  5, 19]])"
      ]
     },
     "execution_count": 72,
     "metadata": {},
     "output_type": "execute_result"
    }
   ],
   "source": [
    "\"\"\"\n",
    "10 \n",
    "Crear una matriz a partir de subclases:\n",
    "\"\"\"\n",
    "a=np.array(np.mat('1 8 7; 3 9 10; 2 5 19'))\n",
    "a"
   ]
  },
  {
   "cell_type": "code",
   "execution_count": 82,
   "metadata": {},
   "outputs": [
    {
     "data": {
      "text/plain": [
       "array([1, 2, 4, 3, 7, 4, 8, 5])"
      ]
     },
     "execution_count": 82,
     "metadata": {},
     "output_type": "execute_result"
    }
   ],
   "source": [
    "\"\"\"\n",
    "11 \n",
    "Convierta una lista en una matriz:\n",
    "\"\"\"\n",
    "\n",
    "a = [1, 2, 4,  3, 7, 4, 8, 5]\n",
    "b=np.asarray(a)\n",
    "b"
   ]
  },
  {
   "cell_type": "code",
   "execution_count": 88,
   "metadata": {},
   "outputs": [
    {
     "data": {
      "text/plain": [
       "array([[0., 1., 2.],\n",
       "       [3., 4., 5.]], dtype=float32)"
      ]
     },
     "execution_count": 88,
     "metadata": {},
     "output_type": "execute_result"
    }
   ],
   "source": [
    "\"\"\"\n",
    "12 \n",
    "numpy.ascontiguousarray\n",
    "\"\"\"\n",
    "\n",
    "x = np.arange(6).reshape(2,3)\n",
    "a= np.ascontiguousarray(x, dtype=np.float32) \n",
    "a"
   ]
  },
  {
   "cell_type": "code",
   "execution_count": 89,
   "metadata": {},
   "outputs": [
    {
     "data": {
      "text/plain": [
       "matrix([[5, 2],\n",
       "        [3, 4]])"
      ]
     },
     "execution_count": 89,
     "metadata": {},
     "output_type": "execute_result"
    }
   ],
   "source": [
    "\"\"\"\n",
    "13 \n",
    "numpy.asmatrix\n",
    "interprete la entrada como una matriz.\n",
    "\"\"\"\n",
    "x = np.array([[1, 2], [3, 4]])\n",
    "\n",
    "m = np.asmatrix(x)\n",
    "x[0,0] = 5\n",
    "m"
   ]
  },
  {
   "cell_type": "code",
   "execution_count": 92,
   "metadata": {},
   "outputs": [
    {
     "name": "stdout",
     "output_type": "stream",
     "text": [
      "True\n",
      "False\n"
     ]
    }
   ],
   "source": [
    "\"\"\"\n",
    "14 numpy.copy\n",
    "\"\"\"\n",
    "\n",
    "x = np.array([1, 2, 3])\n",
    "y = x\n",
    "z = np.copy(x)\n",
    "\n",
    "#Tenga en cuenta que, cuando modificamos los cambios x, y, pero no z:\n",
    "\n",
    "x[0] = 10\n",
    "print(x[0] == y[0])\n",
    "print (x[0] == z[0])\n"
   ]
  },
  {
   "cell_type": "code",
   "execution_count": 95,
   "metadata": {},
   "outputs": [
    {
     "data": {
      "text/plain": [
       "array([b'w', b'o', b'r', b'l', b'd'], dtype='|S1')"
      ]
     },
     "execution_count": 95,
     "metadata": {},
     "output_type": "execute_result"
    }
   ],
   "source": [
    "\"\"\" \n",
    "15 \n",
    "numpy.frombuffer\n",
    "\"\"\"\n",
    "\n",
    "s = b'hello world dato'\n",
    "a=np.frombuffer(s, dtype='S1', count=5, offset=6)\n",
    "a"
   ]
  },
  {
   "cell_type": "code",
   "execution_count": 96,
   "metadata": {},
   "outputs": [
    {
     "data": {
      "text/plain": [
       "array([((10, 0), 98.25)],\n",
       "      dtype=[('time', [('min', '<i8'), ('sec', '<i8')]), ('temp', '<f8')])"
      ]
     },
     "execution_count": 96,
     "metadata": {},
     "output_type": "execute_result"
    }
   ],
   "source": [
    "\"\"\"\n",
    "16 \n",
    "numpy.fromfile\n",
    "\"\"\"\n",
    "\n",
    "dt = np.dtype([('time', [('min', np.int64), ('sec', np.int64)]),('temp', float)])\n",
    "x = np.zeros((1,), dtype=dt)\n",
    "x['time']['min'] = 10; x['temp'] = 98.25\n",
    "x"
   ]
  },
  {
   "cell_type": "code",
   "execution_count": 98,
   "metadata": {},
   "outputs": [
    {
     "data": {
      "text/plain": [
       "array([[ True, False, False],\n",
       "       [False,  True, False],\n",
       "       [False, False,  True]])"
      ]
     },
     "execution_count": 98,
     "metadata": {},
     "output_type": "execute_result"
    }
   ],
   "source": [
    "\"\"\" \n",
    "17 \n",
    "numpy.fromfunction\n",
    "\"\"\"\"\n",
    "\n",
    "a=np.fromfunction(lambda i, j: i == j, (3, 3), dtype=int)\n",
    "a"
   ]
  },
  {
   "cell_type": "code",
   "execution_count": 99,
   "metadata": {},
   "outputs": [
    {
     "data": {
      "text/plain": [
       "array([[0, 1, 2],\n",
       "       [1, 2, 3],\n",
       "       [2, 3, 4]])"
      ]
     },
     "execution_count": 99,
     "metadata": {},
     "output_type": "execute_result"
    }
   ],
   "source": [
    "\"\"\"\n",
    "18 \n",
    "numpy.fromfunction usando lambda\n",
    "\"\"\"\n",
    "\n",
    "a= np.fromfunction(lambda i, j: i + j, (3, 3), dtype=int)\n",
    "a"
   ]
  },
  {
   "cell_type": "code",
   "execution_count": 100,
   "metadata": {},
   "outputs": [
    {
     "data": {
      "text/plain": [
       "array([ 0.,  1.,  4.,  9., 16.])"
      ]
     },
     "execution_count": 100,
     "metadata": {},
     "output_type": "execute_result"
    }
   ],
   "source": [
    "\"\"\"\n",
    "19 numpy.fromiter\n",
    "\"\"\"\n",
    "b= iterable = (x*x for x in range(5))\n",
    "a= np.fromiter(iterable, float)\n",
    "a"
   ]
  },
  {
   "cell_type": "code",
   "execution_count": 105,
   "metadata": {},
   "outputs": [
    {
     "data": {
      "text/plain": [
       "array([1, 2])"
      ]
     },
     "execution_count": 105,
     "metadata": {},
     "output_type": "execute_result"
    }
   ],
   "source": [
    "\"\"\"20 \n",
    "numpy.fromstring( string , dtype = float , count = -1 , sep = '' ) \n",
    "Una nueva matriz 1-D inicializada a partir de datos de texto en una cadena.\n",
    "\"\"\"\n",
    "a=np.fromstring('1, 2', dtype=int, sep=',')\n",
    "a"
   ]
  },
  {
   "cell_type": "code",
   "execution_count": 110,
   "metadata": {},
   "outputs": [
    {
     "name": "stdout",
     "output_type": "stream",
     "text": [
      "[[0. 1.]\n",
      " [2. 3.]]\n"
     ]
    }
   ],
   "source": [
    "\"\"\"\n",
    "21 \n",
    "numpy.loadtxt \n",
    "\"\"\"\n",
    "from io import StringIO   # La cadena se comporta como un objeto de archivo\n",
    "c = StringIO(u\"0 1\\n2 3\")\n",
    "a=np.loadtxt(c)\n",
    "print(a)"
   ]
  },
  {
   "cell_type": "code",
   "execution_count": 111,
   "metadata": {},
   "outputs": [
    {
     "name": "stdout",
     "output_type": "stream",
     "text": [
      "[(b'M', 21, 72.) (b'F', 35, 58.)]\n"
     ]
    }
   ],
   "source": [
    "d = StringIO(u\"M 21 72\\nF 35 58\")\n",
    "b= np.loadtxt(d, dtype={'names': ('gender', 'age', 'weight'),'formats': ('S1', 'i4', 'f4')})\n",
    "print(b)"
   ]
  },
  {
   "cell_type": "code",
   "execution_count": 115,
   "metadata": {},
   "outputs": [
    {
     "name": "stdout",
     "output_type": "stream",
     "text": [
      "(2, 'dd', 2.)\n",
      "[1 2 3 4]\n"
     ]
    }
   ],
   "source": [
    "\"\"\" \n",
    "22 \n",
    "numpy.core.records.fromarrays\n",
    "\"\"\"\n",
    "\n",
    "x1=np.array([1,2,3,4])\n",
    "x2=np.array(['a','dd','xyz','12'])\n",
    "x3=np.array([1.1,2,3,4])\n",
    "r = np.core.records.fromarrays([x1,x2,x3],names='a,b,c')\n",
    "\n",
    "print(r[1])\n",
    "\n",
    "x1[1]=34\n",
    "c=r.a\n",
    "print(c)"
   ]
  },
  {
   "cell_type": "markdown",
   "metadata": {},
   "source": [
    "## Crear matrices de Carácteres"
   ]
  },
  {
   "cell_type": "code",
   "execution_count": 130,
   "metadata": {},
   "outputs": [
    {
     "name": "stdout",
     "output_type": "stream",
     "text": [
      "[b'a1b2' b'1b2a' b'b2a1' b'2a1b']\n",
      "[b'A1b2' b'1b2a' b'B2a1' b'2a1b']\n"
     ]
    }
   ],
   "source": [
    "\"\"\"\n",
    "23 \n",
    "numpy.char.capitalize \n",
    "\"\"\"\n",
    "c = np.array(['a1b2','1b2a','b2a1','2a1b'],'S4'); c\n",
    "\n",
    "otra forma \n",
    "\n",
    "a= np.char.capitalize(c)\n",
    "print(c)\n",
    "print(a)"
   ]
  },
  {
   "cell_type": "code",
   "execution_count": 138,
   "metadata": {},
   "outputs": [
    {
     "name": "stdout",
     "output_type": "stream",
     "text": [
      "['aAaAaA' '  aA  ' 'abBABba']\n",
      "........................\n",
      "[b'\\x81\\xc1\\x81\\xc1\\x81\\xc1' b'@@\\x81\\xc1@@'\n",
      " b'\\x81\\x82\\xc2\\xc1\\xc2\\x82\\x81']\n"
     ]
    }
   ],
   "source": [
    "\"\"\"\n",
    "24 \n",
    "numpy.char.encode \n",
    "\"\"\"\n",
    "c = np.array(['aAaAaA', '  aA  ', 'abBABba'])\n",
    "print(c)\n",
    "print(\"........................\")\n",
    "d=np.char.encode(c, encoding='cp037')\n",
    "print(d)"
   ]
  },
  {
   "cell_type": "code",
   "execution_count": 139,
   "metadata": {},
   "outputs": [
    {
     "data": {
      "text/plain": [
       "array(['a1b c', '1bca', 'bca1'], dtype='<U5')"
      ]
     },
     "execution_count": 139,
     "metadata": {},
     "output_type": "execute_result"
    }
   ],
   "source": [
    "\"\"\"\n",
    "25 \n",
    "numpy.char.lower \n",
    "\"\"\"\n",
    "\n",
    "c = np.array(['A1B C', '1BCA', 'BCA1']); c\n",
    "\n",
    "a= np.char.lower(c)\n",
    "a"
   ]
  },
  {
   "cell_type": "code",
   "execution_count": 143,
   "metadata": {},
   "outputs": [
    {
     "data": {
      "text/plain": [
       "array(['A1b C', '1B cA', 'B cA1', 'Ca1B'], dtype='<U5')"
      ]
     },
     "execution_count": 143,
     "metadata": {},
     "output_type": "execute_result"
    }
   ],
   "source": [
    "\"\"\" \n",
    "26 \n",
    "numpy.char.swapcase \n",
    "Devuelve una copia de la cadena con elementos en mayúscula convertidos a minúsculas y viceversa.\n",
    "\"\"\"\n",
    "c=np.array(['a1B c','1b Ca','b Ca1','cA1b'])\n",
    "\n",
    "a= np.char.swapcase(c)\n",
    "a"
   ]
  },
  {
   "cell_type": "code",
   "execution_count": 145,
   "metadata": {},
   "outputs": [
    {
     "data": {
      "text/plain": [
       "chararray([[b'a', b'a', b'a'],\n",
       "           [b'a', b'a', b'a'],\n",
       "           [b'a', b'a', b'a']], dtype='|S1')"
      ]
     },
     "execution_count": 145,
     "metadata": {},
     "output_type": "execute_result"
    }
   ],
   "source": [
    "\"\"\"\n",
    "27 \n",
    "numpy.char.chararray \n",
    "Proporciona una vista conveniente de las matrices de cadenas y valores unicode.\n",
    "\"\"\"\n",
    "\n",
    "charar = np.chararray((3, 3))\n",
    "charar[:] = 'a'\n",
    "charar"
   ]
  },
  {
   "cell_type": "markdown",
   "metadata": {},
   "source": [
    "## Rutinas de manipulación de matrices"
   ]
  },
  {
   "cell_type": "code",
   "execution_count": 151,
   "metadata": {},
   "outputs": [
    {
     "name": "stdout",
     "output_type": "stream",
     "text": [
      "(2, 2)\n",
      "(2, 2)\n"
     ]
    }
   ],
   "source": [
    "\"\"\"\n",
    "28 \n",
    "numpy.shape( a ) \n",
    "Devuelve la forma de una matriz\n",
    "\"\"\"\n",
    "\n",
    "a = np.array([(1, 2), (3, 4)])\n",
    "b=np.shape(a)\n",
    "\n",
    "x=a.shape\n",
    "print(b)\n",
    "print(x)"
   ]
  },
  {
   "cell_type": "code",
   "execution_count": 153,
   "metadata": {},
   "outputs": [
    {
     "name": "stdout",
     "output_type": "stream",
     "text": [
      "[[1 2 3]\n",
      " [4 5 6]]\n",
      "[1 2 3 4 5 6]\n",
      "[1 4 2 5 3 6]\n"
     ]
    }
   ],
   "source": [
    "\"\"\"\n",
    "29 \n",
    "numpy.reshape( a , newshape , order = 'C' ) \n",
    "Da una nueva forma a una matriz sin cambiar sus datos.\n",
    "\"\"\"\n",
    "\n",
    "a = np.array([[1,2,3], [4,5,6]])\n",
    "b = np.reshape(a, 6)\n",
    "\n",
    "c = np.reshape(a, 6, order='F')\n",
    "print(a)\n",
    "print(b) \n",
    "print (c)"
   ]
  },
  {
   "cell_type": "code",
   "execution_count": 158,
   "metadata": {},
   "outputs": [
    {
     "name": "stdout",
     "output_type": "stream",
     "text": [
      "[[1 2 3]\n",
      " [4 5 6]]\n",
      "[1 2 3 4 5 6]\n"
     ]
    }
   ],
   "source": [
    "\"\"\"\n",
    "30 \n",
    "numpy.ravel( a , orden = 'C' ) \n",
    "Devuelve una matriz aplanada contigua.\n",
    "\"\"\"\n",
    "\n",
    "x = np.array([[1, 2, 3], [4, 5, 6]])\n",
    "a= np.ravel(x)\n",
    "print(x)\n",
    "print(a)"
   ]
  },
  {
   "cell_type": "code",
   "execution_count": 160,
   "metadata": {},
   "outputs": [
    {
     "data": {
      "text/plain": [
       "array([[3, 3, 3],\n",
       "       [3, 3, 3]])"
      ]
     },
     "execution_count": 160,
     "metadata": {},
     "output_type": "execute_result"
    }
   ],
   "source": [
    "\"\"\"\n",
    "31 \n",
    "numpy.ndarray.flat \n",
    "Esta es una numpy.flatiterinstancia, que actúa de manera similar a, \n",
    "pero no es una subclase del objeto iterador incorporado de Python.\n",
    "\"\"\"\n",
    "\n",
    "x.flat = 3; x\n"
   ]
  },
  {
   "cell_type": "code",
   "execution_count": 163,
   "metadata": {},
   "outputs": [
    {
     "data": {
      "text/plain": [
       "array([[3, 1, 3],\n",
       "       [3, 1, 3]])"
      ]
     },
     "execution_count": 163,
     "metadata": {},
     "output_type": "execute_result"
    }
   ],
   "source": [
    "x.flat[[1,4]] = 1;x "
   ]
  },
  {
   "cell_type": "code",
   "execution_count": 165,
   "metadata": {},
   "outputs": [
    {
     "name": "stdout",
     "output_type": "stream",
     "text": [
      "(4, 5, 3)\n",
      "(5, 3, 4)\n"
     ]
    }
   ],
   "source": [
    "\"\"\"\n",
    "32 \n",
    "numpy.moveaxis \n",
    "Mueva los ejes de una matriz a nuevas posiciones.\n",
    "Otros ejes permanecen en su orden original.\n",
    "\"\"\"\n",
    "\n",
    "x = np.zeros((3, 4, 5))\n",
    "a= np.moveaxis(x, 0, -1).shape\n",
    "\n",
    "b= np.moveaxis(x, -1, 0).shape\n",
    "print(a)\n",
    "print(b)"
   ]
  },
  {
   "cell_type": "code",
   "execution_count": 171,
   "metadata": {},
   "outputs": [
    {
     "name": "stdout",
     "output_type": "stream",
     "text": [
      "(3, 6, 4, 5)\n",
      "(5, 3, 4, 6)\n",
      "(3, 5, 6, 4)\n"
     ]
    }
   ],
   "source": [
    "\"\"\"\n",
    "33 \n",
    "numpy.rollaxis( a , axis , start = 0 ) \n",
    "Gire el eje especificado hacia atrás, hasta que se encuentre en una posición determinada.\n",
    "\"\"\"\n",
    "\n",
    "a = np.ones((3,4,5,6)) # matriz de matrices de unos\n",
    "b = np.rollaxis(a, 3, 1).shape\n",
    "\n",
    "c= np.rollaxis(a, 2).shape\n",
    "\n",
    "d= np.rollaxis(a, 1, 4).shape\n",
    "\n",
    "\n",
    "print(b)\n",
    "print(c)\n",
    "print(d)"
   ]
  },
  {
   "cell_type": "code",
   "execution_count": 174,
   "metadata": {},
   "outputs": [
    {
     "data": {
      "text/plain": [
       "array([[[0, 4],\n",
       "        [2, 6]],\n",
       "\n",
       "       [[1, 5],\n",
       "        [3, 7]]])"
      ]
     },
     "execution_count": 174,
     "metadata": {},
     "output_type": "execute_result"
    }
   ],
   "source": [
    "\"\"\"\n",
    "34 \n",
    "numpy.swapaxes \n",
    "Intercambie dos ejes de una matriz.\n",
    "\"\"\"\n",
    "a=np.swapaxes(x,0,2) \n",
    "a\n"
   ]
  },
  {
   "cell_type": "code",
   "execution_count": 175,
   "metadata": {},
   "outputs": [
    {
     "data": {
      "text/plain": [
       "array([[[0, 1],\n",
       "        [2, 3]],\n",
       "\n",
       "       [[4, 5],\n",
       "        [6, 7]]])"
      ]
     },
     "execution_count": 175,
     "metadata": {},
     "output_type": "execute_result"
    }
   ],
   "source": [
    "\n",
    "x = np.array([[[0,1],[2,3]],[[4,5],[6,7]]]) # otra forma de realizar sin el comando\n",
    "x\n"
   ]
  },
  {
   "cell_type": "code",
   "execution_count": 180,
   "metadata": {},
   "outputs": [
    {
     "name": "stdout",
     "output_type": "stream",
     "text": [
      "[[1. 2.]\n",
      " [3. 4.]]\n",
      "................\n",
      "[[1. 3.]\n",
      " [2. 4.]]\n"
     ]
    }
   ],
   "source": [
    "\"\"\"\n",
    "35\n",
    "ndarray.T\n",
    "La matriz transpuesta.\n",
    "\"\"\"\n",
    "\n",
    "x =np.array([[1.,2.],[3.,4.]])\n",
    "print(x)\n",
    "\n",
    "print(\"................\")\n",
    "\n",
    "a=(x.T)\n",
    "print(a)\n",
    "\n"
   ]
  },
  {
   "cell_type": "markdown",
   "metadata": {},
   "source": [
    "## Cambio de número de dimensiones"
   ]
  },
  {
   "cell_type": "code",
   "execution_count": 185,
   "metadata": {},
   "outputs": [
    {
     "name": "stdout",
     "output_type": "stream",
     "text": [
      "[[0. 1. 2.]\n",
      " [3. 4. 5.]\n",
      " [6. 7. 8.]]\n"
     ]
    }
   ],
   "source": [
    "\"\"\"\n",
    "36 \n",
    "numpy.atleast_1d\n",
    "Convierta entradas en matrices con al menos una dimensión.\n",
    "\"\"\"\n",
    "\n",
    "x = np.arange(9.0).reshape(3,3)\n",
    "a = np.atleast_1d(x)\n",
    "print(a)"
   ]
  },
  {
   "cell_type": "code",
   "execution_count": 184,
   "metadata": {},
   "outputs": [
    {
     "data": {
      "text/plain": [
       "array([[0., 1., 2.]])"
      ]
     },
     "execution_count": 184,
     "metadata": {},
     "output_type": "execute_result"
    }
   ],
   "source": [
    "\"\"\"\n",
    "37 \n",
    "numpy.atleast_2d\n",
    "Ver entradas como matrices con al menos dos dimensiones.\n",
    "\"\"\"\n",
    "\n",
    "x = np.arange(3.0)\n",
    "a = np.atleast_2d(x)\n",
    "a"
   ]
  },
  {
   "cell_type": "code",
   "execution_count": 186,
   "metadata": {},
   "outputs": [
    {
     "name": "stdout",
     "output_type": "stream",
     "text": [
      "(4, 3, 1)\n",
      ".................\n",
      "True\n"
     ]
    }
   ],
   "source": [
    "\"\"\"\n",
    "38 \n",
    "Ver entradas como matrices con al menos tres dimensiones.\n",
    "\"\"\"\n",
    "\n",
    "x = np.arange(12.0).reshape(4,3)\n",
    "a = np.atleast_3d(x).shape\n",
    "print(a)\n",
    "print(\".................\")\n",
    "\n",
    "b=np.atleast_3d(x).base is x.base \n",
    "print(b)"
   ]
  },
  {
   "cell_type": "code",
   "execution_count": 190,
   "metadata": {},
   "outputs": [
    {
     "data": {
      "text/plain": [
       "array([[5., 6., 7.],\n",
       "       [6., 7., 8.],\n",
       "       [7., 8., 9.]])"
      ]
     },
     "execution_count": 190,
     "metadata": {},
     "output_type": "execute_result"
    }
   ],
   "source": [
    "\"\"\"\n",
    "39 \n",
    "Agregar manualmente dos vectores, utilizando la transmisión:\n",
    "\"\"\"\n",
    "\n",
    "x = np.array([[1], [2], [3]])\n",
    "y = np.array([4, 5, 6])\n",
    "b = np.broadcast(x, y)\n",
    "out = np.empty(b.shape)\n",
    "out.flat = [u+v for (u,v) in b]\n",
    "out\n"
   ]
  },
  {
   "cell_type": "code",
   "execution_count": 200,
   "metadata": {},
   "outputs": [
    {
     "name": "stdout",
     "output_type": "stream",
     "text": [
      "[[4 5 6]\n",
      " [3 6 7]]\n",
      ".....................\n",
      "[[[4 5 6]]\n",
      "\n",
      " [[3 6 7]]]\n"
     ]
    }
   ],
   "source": [
    "\"\"\"\n",
    "40 \n",
    "numpy.expand_dims( a , eje )\n",
    "\n",
    "Expande la forma de una matriz.\n",
    "Inserte un nuevo eje que aparecerá en la posición del eje en la forma de matriz expandida.\n",
    "\"\"\"\n",
    "\n",
    "x = np.array(([4, 5, 6],[3,6,7]))\n",
    "print(x)\n",
    "print(\".....................\")\n",
    "\n",
    "y = np.expand_dims(x, axis=1)\n",
    "print(y)"
   ]
  },
  {
   "cell_type": "code",
   "execution_count": 201,
   "metadata": {},
   "outputs": [
    {
     "name": "stdout",
     "output_type": "stream",
     "text": [
      "(3, 1)\n"
     ]
    }
   ],
   "source": [
    "\"\"\"\n",
    "41 \n",
    "numpy.squeeze( a , axis = None ) \n",
    "Eliminar entradas unidimensionales de la forma de una matriz.\n",
    "\"\"\"\n",
    "\n",
    "x = np.array([[[0], [1], [2]]])\n",
    "y= np.squeeze(x, axis=0).shape \n",
    "print(y)"
   ]
  },
  {
   "cell_type": "markdown",
   "metadata": {},
   "source": [
    "## Cambiar el tipo de Matriz"
   ]
  },
  {
   "cell_type": "code",
   "execution_count": 207,
   "metadata": {},
   "outputs": [
    {
     "name": "stdout",
     "output_type": "stream",
     "text": [
      "[1. 2.]\n"
     ]
    }
   ],
   "source": [
    "\"\"\"\n",
    "42 \n",
    "numpy.asarray( a , dtype = None , order = None ) \n",
    "Convierta la entrada a una matriz.\n",
    "\"\"\"\n",
    "a = np.array([1, 2], dtype=np.float32)\n",
    "b = np.asarray(a, dtype=np.float32) \n",
    "print(b)"
   ]
  },
  {
   "cell_type": "code",
   "execution_count": 208,
   "metadata": {},
   "outputs": [
    {
     "data": {
      "text/plain": [
       "matrix([[5, 2],\n",
       "        [3, 4]])"
      ]
     },
     "execution_count": 208,
     "metadata": {},
     "output_type": "execute_result"
    }
   ],
   "source": [
    "\"\"\"\n",
    "43 \n",
    "numpy.asmatrix( datos , dtype = Ninguno ) \n",
    "Interprete la entrada como una matriz.\n",
    "\"\"\"\n",
    "x = np.array([[1, 2], [3, 4]])\n",
    "m = np.asmatrix(x)\n",
    "x[0,0] = 5\n",
    "m\n",
    "\n"
   ]
  },
  {
   "cell_type": "code",
   "execution_count": 210,
   "metadata": {},
   "outputs": [
    {
     "name": "stdout",
     "output_type": "stream",
     "text": [
      "[[1 2]\n",
      " [3 4]\n",
      " [5 6]]\n",
      ".............\n",
      "[[1 2 5]\n",
      " [3 4 6]]\n"
     ]
    }
   ],
   "source": [
    "\"\"\"\n",
    "43 \n",
    "numpy.asmatrix( datos , dtype = Ninguno) \n",
    "Interprete la entrada como una matriz.\n",
    "\"\"\"\n",
    "a = np.array([[1, 2], [3, 4]])\n",
    "b = np.array([[5, 6]])\n",
    "c=np.concatenate((a, b), axis=0)\n",
    "print(c)\n",
    "print(\".............\")\n",
    "d= np.concatenate((a, b.T), axis=1)\n",
    "print(d)"
   ]
  },
  {
   "cell_type": "code",
   "execution_count": 222,
   "metadata": {},
   "outputs": [
    {
     "data": {
      "text/plain": [
       "(10, 3, 4)"
      ]
     },
     "execution_count": 222,
     "metadata": {},
     "output_type": "execute_result"
    }
   ],
   "source": [
    "\"\"\"\n",
    "44 \n",
    "numpy.stack( arrays , axis = 0 , out = None )\n",
    "Unir una secuencia de matrices a lo largo de un nuevo eje.\n",
    "\"\"\"\n",
    "\n",
    "arrays = [np.random.randn(3, 4) for _ in range(10)]\n",
    "a = np.stack(arrays, axis=1).shape\n",
    "(10, 3, 4)"
   ]
  },
  {
   "cell_type": "code",
   "execution_count": 217,
   "metadata": {},
   "outputs": [
    {
     "data": {
      "text/plain": [
       "array([[1, 2, 3],\n",
       "       [2, 3, 4]])"
      ]
     },
     "execution_count": 217,
     "metadata": {},
     "output_type": "execute_result"
    }
   ],
   "source": [
    "a = np.array([1, 2, 3])\n",
    "b = np.array([2, 3, 4])\n",
    "c = np.stack((a, b))\n",
    "c"
   ]
  },
  {
   "cell_type": "code",
   "execution_count": 225,
   "metadata": {},
   "outputs": [
    {
     "data": {
      "text/plain": [
       "array([1, 2, 3, 2, 3, 4])"
      ]
     },
     "execution_count": 225,
     "metadata": {},
     "output_type": "execute_result"
    }
   ],
   "source": [
    "\"\"\"\n",
    "45 \n",
    "numpy.hstack( tup )\n",
    "Apile las matrices en secuencia horizontalmente (en sentido de columna).\n",
    "\"\"\"\n",
    "\n",
    "a = np.array((1,2,3))\n",
    "b = np.array((2,3,4))\n",
    "c= np.hstack((a,b))\n",
    "c"
   ]
  },
  {
   "cell_type": "code",
   "execution_count": 228,
   "metadata": {},
   "outputs": [
    {
     "data": {
      "text/plain": [
       "array([[1, 2],\n",
       "       [2, 3],\n",
       "       [3, 4]])"
      ]
     },
     "execution_count": 228,
     "metadata": {},
     "output_type": "execute_result"
    }
   ],
   "source": [
    "\"\"\"\n",
    "46 \n",
    "numpy.hstack( tup )\n",
    "Apile las matrices en secuencia horizontalmente (en sentido de columna).\n",
    "\"\"\"\n",
    "\n",
    "a = np.array([[1],[2],[3]])\n",
    "b = np.array([[2],[3],[4]])\n",
    "c= np.hstack((a,b))\n",
    "c"
   ]
  },
  {
   "cell_type": "code",
   "execution_count": 7,
   "metadata": {},
   "outputs": [
    {
     "data": {
      "text/plain": [
       "array([[1, 2, 3],\n",
       "       [2, 3, 4]])"
      ]
     },
     "execution_count": 7,
     "metadata": {},
     "output_type": "execute_result"
    }
   ],
   "source": [
    "\"\"\"\n",
    "47 \n",
    "numpy.vstack( tup )\n",
    "Apile las matrices en secuencia verticalmente (en sentido de fila).\n",
    "\"\"\"\n",
    "a = np.array([1, 2, 3])\n",
    "b = np.array([2, 3, 4])\n",
    "c=np.vstack((a,b))\n",
    "c\n",
    "\n"
   ]
  },
  {
   "cell_type": "code",
   "execution_count": 8,
   "metadata": {},
   "outputs": [
    {
     "data": {
      "text/plain": [
       "array([[1],\n",
       "       [2],\n",
       "       [3],\n",
       "       [2],\n",
       "       [3],\n",
       "       [4]])"
      ]
     },
     "execution_count": 8,
     "metadata": {},
     "output_type": "execute_result"
    }
   ],
   "source": [
    "a = np.array([[1], [2], [3]])\n",
    "b = np.array([[2], [3], [4]])\n",
    "c=np.vstack((a,b))\n",
    "c"
   ]
  },
  {
   "cell_type": "code",
   "execution_count": 9,
   "metadata": {},
   "outputs": [
    {
     "data": {
      "text/plain": [
       "array([[1, 1],\n",
       "       [1, 1],\n",
       "       [2, 2],\n",
       "       [2, 2]])"
      ]
     },
     "execution_count": 9,
     "metadata": {},
     "output_type": "execute_result"
    }
   ],
   "source": [
    "\"\"\"\n",
    "48 \n",
    "numpy.block( matrices )\n",
    "Ensamble un nd-array a partir de listas anidadas de bloques.\n",
    "\n",
    "Los bloques en las listas más internas se concatenan (ver concatenate) a lo \n",
    "largo de la última dimensión (-1), luego se concatenan a lo largo de la penúltima \n",
    "dimensión (-2), y así sucesivamente hasta que se alcanza la lista más externa.\n",
    "\"\"\"\n",
    "\n",
    "A = np.ones((2, 2), int)\n",
    "B = 2 * A\n",
    "c= np.block([[A], [B]])             \n",
    "c\n"
   ]
  },
  {
   "cell_type": "markdown",
   "metadata": {},
   "source": [
    "## División de matrices "
   ]
  },
  {
   "cell_type": "code",
   "execution_count": 15,
   "metadata": {},
   "outputs": [
    {
     "data": {
      "text/plain": [
       "[array([0., 1., 2.]),\n",
       " array([3., 4.]),\n",
       " array([5.]),\n",
       " array([6., 7.]),\n",
       " array([], dtype=float64)]"
      ]
     },
     "execution_count": 15,
     "metadata": {},
     "output_type": "execute_result"
    }
   ],
   "source": [
    "\"\"\"\n",
    "49\n",
    "numpy.split ( ary , indices_or_sections , axis = 0 )\n",
    "Dividir una matriz en múltiples sub-matrices como vistas en aria .\n",
    "\"\"\"\n",
    "\n",
    "x = np.arange(8.0)\n",
    "c= np.split(x, [3, 5, 6, 10])\n",
    "c"
   ]
  },
  {
   "cell_type": "code",
   "execution_count": 16,
   "metadata": {},
   "outputs": [
    {
     "data": {
      "text/plain": [
       "[array([0., 1., 2.]), array([3., 4.]), array([5., 6.])]"
      ]
     },
     "execution_count": 16,
     "metadata": {},
     "output_type": "execute_result"
    }
   ],
   "source": [
    "\"\"\"\n",
    "50\n",
    "numpy.array_split( ary , indices_or_sections , axis = 0 ) \n",
    "Dividir una matriz en múltiples sub-matrices.\n",
    "\"\"\"\n",
    "\n",
    "x = np.arange(7.0)\n",
    "c= np.array_split(x, 3)\n",
    "c"
   ]
  },
  {
   "cell_type": "code",
   "execution_count": 22,
   "metadata": {},
   "outputs": [
    {
     "name": "stdout",
     "output_type": "stream",
     "text": [
      "[[[ 0.  1.  2.  3.]\n",
      "  [ 4.  5.  6.  7.]]\n",
      "\n",
      " [[ 8.  9. 10. 11.]\n",
      "  [12. 13. 14. 15.]]]\n",
      "..................\n",
      "[array([[[ 0.,  1.,  2.],\n",
      "        [ 4.,  5.,  6.]],\n",
      "\n",
      "       [[ 8.,  9., 10.],\n",
      "        [12., 13., 14.]]]), array([[[ 3.],\n",
      "        [ 7.]],\n",
      "\n",
      "       [[11.],\n",
      "        [15.]]]), array([], shape=(2, 2, 0), dtype=float64)]\n"
     ]
    }
   ],
   "source": [
    "\"\"\"\n",
    "51\n",
    "numpy.dsplit( ary , indices_or_sections ) \n",
    "Dividir la matriz en múltiples sub-matrices a lo largo del 3er eje (profundidad).\n",
    "\"\"\"\n",
    "\n",
    "x = np.arange(16.0).reshape(2, 2, 4)\n",
    "print(x)\n",
    "\n",
    "print(\"..................\")\n",
    "\n",
    "c=np.dsplit(x, np.array([3, 6]))\n",
    "print(c)\n"
   ]
  },
  {
   "cell_type": "code",
   "execution_count": 23,
   "metadata": {},
   "outputs": [
    {
     "data": {
      "text/plain": [
       "[array([[[0., 1.]],\n",
       " \n",
       "        [[4., 5.]]]), array([[[2., 3.]],\n",
       " \n",
       "        [[6., 7.]]])]"
      ]
     },
     "execution_count": 23,
     "metadata": {},
     "output_type": "execute_result"
    }
   ],
   "source": [
    "\"\"\"\n",
    "52\n",
    "numpy.hsplit( ary , indices_or_sections ) \n",
    "Dividir una matriz en múltiples sub-matrices horizontalmente (en forma de columna).\n",
    "\"\"\"\n",
    "x = np.arange(8.0).reshape(2, 2, 2)\n",
    "c=np.hsplit(x, 2)\n",
    "c"
   ]
  },
  {
   "cell_type": "markdown",
   "metadata": {},
   "source": [
    "## Arreglos de mosaico"
   ]
  },
  {
   "cell_type": "code",
   "execution_count": 32,
   "metadata": {},
   "outputs": [
    {
     "name": "stdout",
     "output_type": "stream",
     "text": [
      "[3 3 3 3]\n",
      "...............\n",
      "[ 1  1  2  2  3  3  4  4  5  5  6  6  7  7  8  8  9  9 10 10 11 11 12 12]\n"
     ]
    }
   ],
   "source": [
    "\"\"\"\n",
    "53\n",
    "numpy.repeat( a , repeticiones , eje = Ninguno ) \n",
    "Repita elementos de una matriz.\n",
    "\"\"\"\n",
    "\n",
    "a=np.repeat(3, 4)\n",
    "print(a) \n",
    "\n",
    "print(\"...............\")\n",
    "\n",
    "x = np.array([[1,2],[3,4],[5,6],[7,8]])\n",
    "c=np.repeat(x, 2)\n",
    "print(c)"
   ]
  },
  {
   "cell_type": "markdown",
   "metadata": {},
   "source": [
    "## Agregar y eliminar elementos "
   ]
  },
  {
   "cell_type": "code",
   "execution_count": 29,
   "metadata": {},
   "outputs": [
    {
     "data": {
      "text/plain": [
       "array([[ 1,  2,  3,  4],\n",
       "       [ 5,  6,  7,  8],\n",
       "       [ 9, 10, 11, 12]])"
      ]
     },
     "execution_count": 29,
     "metadata": {},
     "output_type": "execute_result"
    }
   ],
   "source": [
    "\"\"\"\n",
    "54\n",
    "umpy.delete( arr , obj , axis = None ) \n",
    "Devuelve una nueva matriz con sub-matrices a lo largo de un eje eliminado. \n",
    "Para una matriz unidimensional, esto devuelve las entradas no devueltas por arr [obj] .\n",
    "\"\"\"\n",
    "\n",
    "arr = np.array([[1,2,3,4], [5,6,7,8], [9,10,11,12]])\n",
    "arr"
   ]
  },
  {
   "cell_type": "code",
   "execution_count": 33,
   "metadata": {},
   "outputs": [
    {
     "data": {
      "text/plain": [
       "array([[ 2,  4],\n",
       "       [ 6,  8],\n",
       "       [10, 12]])"
      ]
     },
     "execution_count": 33,
     "metadata": {},
     "output_type": "execute_result"
    }
   ],
   "source": [
    "c = np.delete(arr, np.s_[::2], 1)\n",
    "c"
   ]
  },
  {
   "cell_type": "code",
   "execution_count": 35,
   "metadata": {},
   "outputs": [
    {
     "name": "stdout",
     "output_type": "stream",
     "text": [
      "[0. 1. 2. 3. 4. 5. 6. 7.]\n",
      "..............\n",
      "[array([0., 1., 2.]), array([3., 4., 5.]), array([6., 7.])]\n"
     ]
    }
   ],
   "source": [
    "\"\"\"\n",
    "55\n",
    "numpy.array_split( ary , indices_or_sections , axis = 0 ) \n",
    "Dividir una matriz en múltiples sub-matrices.\n",
    "\"\"\"\n",
    "\n",
    "x = np.arange(8.0)\n",
    "print(x)\n",
    "\n",
    "print(\"..............\")\n",
    "\n",
    "c = np.array_split(x, 3)\n",
    "print(c)"
   ]
  },
  {
   "cell_type": "code",
   "execution_count": 41,
   "metadata": {},
   "outputs": [
    {
     "name": "stdout",
     "output_type": "stream",
     "text": [
      "[[1 1]\n",
      " [2 2]\n",
      " [3 3]]\n",
      "...........\n",
      "[1 5 1 2 2 3 3]\n",
      "...........\n",
      "[[1 5 1]\n",
      " [2 5 2]\n",
      " [3 5 3]]\n"
     ]
    }
   ],
   "source": [
    "\"\"\"\n",
    "56\n",
    "numpy.insert( arr , obj , valores , eje = Ninguno ) \n",
    "Insertar valores a lo largo del eje dado antes de los índices dados.\n",
    "\"\"\"\n",
    "\n",
    "a = np.array([[1, 1], [2, 2], [3, 3]])\n",
    "print(a)\n",
    "\n",
    "print(\"...........\")\n",
    "\n",
    "c = np.insert(a, 1, 5)\n",
    "print(c)\n",
    "\n",
    "print(\"...........\")\n",
    "\n",
    "d= np.insert(a, 1, 5, axis=1)\n",
    "print(d)"
   ]
  },
  {
   "cell_type": "code",
   "execution_count": 43,
   "metadata": {},
   "outputs": [
    {
     "data": {
      "text/plain": [
       "array([[1, 2, 3],\n",
       "       [4, 5, 6],\n",
       "       [7, 8, 9]])"
      ]
     },
     "execution_count": 43,
     "metadata": {},
     "output_type": "execute_result"
    }
   ],
   "source": [
    "\"\"\"\n",
    "57\n",
    "numpy.append( arr , valores , eje = Ninguno ) \n",
    "Agregar valores al final de una matriz.\n",
    "\"\"\"\n",
    "\n",
    "c= np.append([[1, 2, 3], [4, 5, 6]], [[7, 8, 9]], axis=0)\n",
    "c"
   ]
  },
  {
   "cell_type": "code",
   "execution_count": 44,
   "metadata": {},
   "outputs": [
    {
     "name": "stdout",
     "output_type": "stream",
     "text": [
      "[[0 1]\n",
      " [2 3]]\n",
      "...........\n",
      "[[0 1 2 3]]\n",
      "...........\n",
      "[[0 1 2 3]\n",
      " [0 1 2 3]]\n"
     ]
    }
   ],
   "source": [
    "\"\"\"\n",
    "58\n",
    "numpy.resize( a , new_shape ) \n",
    "Devuelve una nueva matriz con la forma especificada.\n",
    "\"\"\"\n",
    "a=np.array([[0,1],[2,3]])\n",
    "print(a)\n",
    "print(\"...........\")\n",
    "\n",
    "b= np.resize(a,(1,4))\n",
    "print(b)\n",
    "print(\"...........\")\n",
    "\n",
    "c= np.resize(a,(2,4))\n",
    "print(c)\n"
   ]
  },
  {
   "cell_type": "code",
   "execution_count": 45,
   "metadata": {},
   "outputs": [
    {
     "name": "stdout",
     "output_type": "stream",
     "text": [
      "[1, 2]\n"
     ]
    }
   ],
   "source": [
    "\"\"\"\n",
    "59 \n",
    "numpy.trim_zeros( filt , trim = 'fb' )\n",
    "Recorte los ceros iniciales y / o finales de una matriz o secuencia 1-D.\n",
    "\"\"\"\n",
    "\n",
    "a = np.array((0, 0, 0, 1, 2, 3, 0, 2, 1, 0))\n",
    "b = np.trim_zeros([0, 1, 2, 0])\n",
    "print(b)"
   ]
  },
  {
   "cell_type": "code",
   "execution_count": 46,
   "metadata": {},
   "outputs": [
    {
     "data": {
      "text/plain": [
       "array([1, 2, 3, 4, 6])"
      ]
     },
     "execution_count": 46,
     "metadata": {},
     "output_type": "execute_result"
    }
   ],
   "source": [
    "\"\"\"\n",
    "60\n",
    "numpy.unique\n",
    "Encuentra los elementos únicos de una matriz.\n",
    "\"\"\"\n",
    "\n",
    "a = np.array([1, 2, 6, 4, 2, 3, 2])\n",
    "u, indices = np.unique(a, return_inverse=True)\n",
    "u"
   ]
  },
  {
   "cell_type": "markdown",
   "metadata": {},
   "source": [
    "## Reorganizando elementos "
   ]
  },
  {
   "cell_type": "code",
   "execution_count": 48,
   "metadata": {},
   "outputs": [
    {
     "name": "stdout",
     "output_type": "stream",
     "text": [
      "[[[0 1]\n",
      "  [2 3]]\n",
      "\n",
      " [[4 5]\n",
      "  [6 7]]]\n",
      "...........\n",
      "[[[2 3]\n",
      "  [0 1]]\n",
      "\n",
      " [[6 7]\n",
      "  [4 5]]]\n",
      "...........\n",
      "[[[7 6]\n",
      "  [5 4]]\n",
      "\n",
      " [[3 2]\n",
      "  [1 0]]]\n"
     ]
    }
   ],
   "source": [
    "\"\"\"\n",
    "61\n",
    "numpy.flip( m , eje = Ninguno )\n",
    "Invierta el orden de los elementos en una matriz a lo largo del eje dado.\n",
    "La forma de la matriz se conserva, pero los elementos se reordenan.\n",
    "\"\"\"\n",
    "\n",
    "A = np.arange(8).reshape((2,2,2))\n",
    "print(A)\n",
    "print(\"...........\")\n",
    "\n",
    "b=np.flip(A, 1)\n",
    "print(b)\n",
    "print(\"...........\")\n",
    "\n",
    "c= np.flip(A)\n",
    "print(c)"
   ]
  },
  {
   "cell_type": "code",
   "execution_count": 53,
   "metadata": {},
   "outputs": [
    {
     "name": "stdout",
     "output_type": "stream",
     "text": [
      "[1 2 3 4 5 6]\n",
      "...........\n",
      "[[1 2]\n",
      " [3 4]\n",
      " [5 6]]\n"
     ]
    }
   ],
   "source": [
    "\"\"\"\n",
    "62\n",
    "numpy.reshape\n",
    "Da una nueva forma a una matriz sin cambiar sus datos.\n",
    "\"\"\"\n",
    "\n",
    "a = np.array([[1,2,3], [4,5,6]])\n",
    "b = np.reshape(a, 6)\n",
    "print(b)\n",
    "\n",
    "print(\"...........\")\n",
    "\n",
    "c = np.reshape(a, (3,-1))\n",
    "print(c)"
   ]
  },
  {
   "cell_type": "code",
   "execution_count": 54,
   "metadata": {},
   "outputs": [
    {
     "data": {
      "text/plain": [
       "array([8, 9, 0, 1, 2, 3, 4, 5, 6, 7])"
      ]
     },
     "execution_count": 54,
     "metadata": {},
     "output_type": "execute_result"
    }
   ],
   "source": [
    "\"\"\"\n",
    "63\n",
    "numpy.roll( a , shift , axis = None ) \n",
    "Roll elementos de la matriz a lo largo de un eje dado.\n",
    "Los elementos que ruedan más allá de la última posición se reintroducen en la primera.\n",
    "\"\"\"\n",
    "\n",
    "x = np.arange(10)\n",
    "a = np.roll(x, 2)\n",
    "a"
   ]
  },
  {
   "cell_type": "code",
   "execution_count": 55,
   "metadata": {},
   "outputs": [
    {
     "data": {
      "text/plain": [
       "array([b'a1b2', b'1b2a', b'b2a1', b'2a1b'], dtype='|S4')"
      ]
     },
     "execution_count": 55,
     "metadata": {},
     "output_type": "execute_result"
    }
   ],
   "source": [
    "\"\"\"\n",
    "64\n",
    "numpy.char.capitalize( a ) \n",
    "Devuelva una copia de a con solo el primer carácter de cada elemento en mayúscula.\n",
    "\"\"\"\n",
    "c = np.array(['a1b2','1b2a','b2a1','2a1b'],'S4'); c\n"
   ]
  },
  {
   "cell_type": "code",
   "execution_count": 56,
   "metadata": {},
   "outputs": [
    {
     "data": {
      "text/plain": [
       "array(['aAaAaA', '  aA  ', 'abBABba'], dtype='<U7')"
      ]
     },
     "execution_count": 56,
     "metadata": {},
     "output_type": "execute_result"
    }
   ],
   "source": [
    "\"\"\"\n",
    "65\n",
    "numpy.char.decode\n",
    "El conjunto de códecs disponibles proviene de la biblioteca estándar de Python y puede \n",
    "ampliarse en tiempo de ejecución. Para más información, vea el codecsmódulo.\n",
    "\"\"\"\n",
    "\n",
    "c = np.array(['aAaAaA', '  aA  ', 'abBABba'])\n",
    "c"
   ]
  },
  {
   "cell_type": "markdown",
   "metadata": {},
   "source": [
    "## Información de la cadena"
   ]
  },
  {
   "cell_type": "code",
   "execution_count": 59,
   "metadata": {},
   "outputs": [
    {
     "data": {
      "text/plain": [
       "array([2, 1, 1])"
      ]
     },
     "execution_count": 59,
     "metadata": {},
     "output_type": "execute_result"
    }
   ],
   "source": [
    "\"\"\"\n",
    "66\n",
    "numpy.char.count( a , sub , inicio = 0 , final = Ninguno ) \n",
    "Devuelve una matriz con el número de ocurrencias no superpuestas de subcadena sub en el rango [ inicio , fin ].\n",
    "\"\"\"\n",
    "c = np.array(['aAaAaA', '  aA  ', 'abBABba'])\n",
    "a = np.char.count(c, 'A', start=1, end=4)\n",
    "a"
   ]
  },
  {
   "cell_type": "code",
   "execution_count": 61,
   "metadata": {},
   "outputs": [
    {
     "data": {
      "text/plain": [
       "array(['foo', 'bar'], dtype='<U3')"
      ]
     },
     "execution_count": 61,
     "metadata": {},
     "output_type": "execute_result"
    }
   ],
   "source": [
    "\"\"\"\n",
    "67\n",
    "numpy.char.endswith( a , sufijo , inicio = 0 , final = Ninguno ) \n",
    "Devuelve una matriz booleana que es verdadera , donde el elemento de cadena en un extremo con el sufijo, \n",
    "de lo contrario falso .\n",
    "\"\"\"\n",
    "s = np.array(['foo', 'bar'])\n",
    "s[0] = 'foo'\n",
    "s[1] = 'bar'\n",
    "s"
   ]
  },
  {
   "cell_type": "code",
   "execution_count": 63,
   "metadata": {},
   "outputs": [
    {
     "data": {
      "text/plain": [
       "chararray([[b'a', b'a', b'a'],\n",
       "           [b'a', b'a', b'a'],\n",
       "           [b'a', b'a', b'a']], dtype='|S1')"
      ]
     },
     "execution_count": 63,
     "metadata": {},
     "output_type": "execute_result"
    }
   ],
   "source": [
    "\"\"\"\n",
    "68 \n",
    "numpy.char.chararray\n",
    "(shape , itemsize = 1 , unicode = False , buffer = None , offset = 0 , strides = None , order = None) \n",
    "Proporciona una vista conveniente de las matrices de cadenas y valores unicode.\n",
    "\"\"\"\n",
    "\n",
    "charar = np.chararray((3, 3))\n",
    "charar[:] = 'a'\n",
    "charar"
   ]
  },
  {
   "cell_type": "code",
   "execution_count": 65,
   "metadata": {},
   "outputs": [
    {
     "data": {
      "text/plain": [
       "array([False,  True, False])"
      ]
     },
     "execution_count": 65,
     "metadata": {},
     "output_type": "execute_result"
    }
   ],
   "source": [
    "\"\"\"\n",
    "69\n",
    "numpy.char.compare_chararrays( a , b , cmp_op , rstrip ) \n",
    "Realiza una comparación entre elementos de dos matrices de \n",
    "cadenas utilizando el operador de comparación especificado por cmp_op .\n",
    "\"\"\"\n",
    "\n",
    "a = np.array([\"a\", \"b\", \"cde\"])\n",
    "b = np.array([\"a\", \"a\", \"dec\"])\n",
    "c = np.compare_chararrays(a, b, \">\", True)\n",
    "c"
   ]
  },
  {
   "cell_type": "code",
   "execution_count": 67,
   "metadata": {},
   "outputs": [
    {
     "data": {
      "text/plain": [
       "(2,)"
      ]
     },
     "execution_count": 67,
     "metadata": {},
     "output_type": "execute_result"
    }
   ],
   "source": [
    "\"\"\"\n",
    "70\n",
    "numpy.shape \n",
    "numpy.shape( a ) \n",
    "Devuelve la forma de una matriz.\n",
    "\"\"\"\n",
    "\n",
    "a = np.array([(1, 2), (3, 4)], dtype=[('x', 'i4'), ('y', 'i4')])\n",
    "b =  np.shape(a)\n",
    "b"
   ]
  },
  {
   "cell_type": "markdown",
   "metadata": {},
   "source": [
    "## Crear matrices de registros ( numpy.rec) "
   ]
  },
  {
   "cell_type": "code",
   "execution_count": 68,
   "metadata": {},
   "outputs": [
    {
     "name": "stdout",
     "output_type": "stream",
     "text": [
      "(2, 'dd', 2.)\n"
     ]
    }
   ],
   "source": [
    "\"\"\"\n",
    "71\n",
    "numpy.core.records.fromarrays\n",
    "Crear una matriz de registros a partir de una lista (plana) de matrices\n",
    "\"\"\"\n",
    "\n",
    "x1=np.array([1,2,3,4])\n",
    "x2=np.array(['a','dd','xyz','12'])\n",
    "x3=np.array([1.1,2,3,4])\n",
    "r = np.core.records.fromarrays([x1,x2,x3],names='a,b,c')\n",
    "print(r[1])"
   ]
  },
  {
   "cell_type": "code",
   "execution_count": 70,
   "metadata": {},
   "outputs": [
    {
     "name": "stdout",
     "output_type": "stream",
     "text": [
      "(456, 'dbe', 1.2)\n"
     ]
    }
   ],
   "source": [
    "\"\"\"\n",
    "72\n",
    "numpy.core.records.fromrecords\n",
    "crear un recarray de una lista de registros en forma de texto\n",
    "\"\"\"\n",
    "\n",
    "r=np.core.records.fromrecords([(456,'dbe',1.2),(2,'de',1.3)],names='col1,col2,col3')\n",
    "print(r[0])"
   ]
  },
  {
   "cell_type": "code",
   "execution_count": 77,
   "metadata": {},
   "outputs": [
    {
     "data": {
      "text/plain": [
       "array([[  1,   1,   1,   1],\n",
       "       [  8,   4,   2,   1],\n",
       "       [ 27,   9,   3,   1],\n",
       "       [125,  25,   5,   1]])"
      ]
     },
     "execution_count": 77,
     "metadata": {},
     "output_type": "execute_result"
    }
   ],
   "source": [
    "\"\"\"\n",
    "73\n",
    "numpy.vander( x , N = Ninguno , creciente = Falso ) \n",
    "Genera una matriz de Vandermonde.\n",
    "\"\"\"\n",
    "\n",
    "x = np.array([1, 2, 3, 5])\n",
    "a = np.vander(x)\n",
    "a"
   ]
  },
  {
   "cell_type": "code",
   "execution_count": 78,
   "metadata": {},
   "outputs": [
    {
     "data": {
      "text/plain": [
       "array([[  1,   1,   1,   1],\n",
       "       [  1,   2,   4,   8],\n",
       "       [  1,   3,   9,  27],\n",
       "       [  1,   5,  25, 125]])"
      ]
     },
     "execution_count": 78,
     "metadata": {},
     "output_type": "execute_result"
    }
   ],
   "source": [
    "b= np.vander(x, increasing=True)\n",
    "b"
   ]
  }
 ],
 "metadata": {
  "kernelspec": {
   "display_name": "Python 3",
   "language": "python",
   "name": "python3"
  },
  "language_info": {
   "codemirror_mode": {
    "name": "ipython",
    "version": 3
   },
   "file_extension": ".py",
   "mimetype": "text/x-python",
   "name": "python",
   "nbconvert_exporter": "python",
   "pygments_lexer": "ipython3",
   "version": "3.7.4"
  }
 },
 "nbformat": 4,
 "nbformat_minor": 2
}
